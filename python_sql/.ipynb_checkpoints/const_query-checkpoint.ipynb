{
 "cells": [
  {
   "cell_type": "code",
   "execution_count": 1,
   "id": "c6625e16",
   "metadata": {},
   "outputs": [],
   "source": [
    "import os\n",
    "import pandas as pd\n",
    "import sqlite3"
   ]
  },
  {
   "cell_type": "code",
   "execution_count": 2,
   "id": "8f0dcbdc",
   "metadata": {},
   "outputs": [],
   "source": [
    "conn = sqlite3.connect(\"airline2.db\")"
   ]
  },
  {
   "cell_type": "code",
   "execution_count": 3,
   "id": "7152e569",
   "metadata": {},
   "outputs": [
    {
     "name": "stdout",
     "output_type": "stream",
     "text": [
      "Empty DataFrame\n",
      "Columns: [name]\n",
      "Index: []\n"
     ]
    }
   ],
   "source": [
    "tables = pd.read_sql_query(\"SELECT name FROM sqlite_master WHERE type='table';\", conn)\n",
    "print(tables)"
   ]
  },
  {
   "cell_type": "code",
   "execution_count": 4,
   "id": "2f3d7968",
   "metadata": {},
   "outputs": [],
   "source": [
    "airports = pd.read_csv(\"/Users/veranikapotiiko/Desktop/airports.csv\")\n",
    "carriers = pd.read_csv(\"/Users/veranikapotiiko/Desktop/carriers.csv\")\n",
    "planes = pd.read_csv(\"/Users/veranikapotiiko/Desktop/plane-data.csv\")"
   ]
  },
  {
   "cell_type": "code",
   "execution_count": 5,
   "id": "6bc46430",
   "metadata": {},
   "outputs": [],
   "source": [
    "file_path = \"/Users/veranikapotiiko/Desktop\"\n",
    "csv_files = [os.path.join(file_path, f) for f in os.listdir(file_path) if f.startswith(\"200\") and f.endswith(\".csv\")]\n",
    "ontime = pd.concat((pd.read_csv(f) for f in csv_files), ignore_index=True)"
   ]
  },
  {
   "cell_type": "code",
   "execution_count": 6,
   "id": "a3ad272b",
   "metadata": {},
   "outputs": [
    {
     "data": {
      "text/plain": [
       "24113624"
      ]
     },
     "execution_count": 6,
     "metadata": {},
     "output_type": "execute_result"
    }
   ],
   "source": [
    "airports.to_sql(\"airports\", conn, if_exists=\"replace\", index=False)\n",
    "carriers.to_sql(\"carriers\", conn, if_exists=\"replace\", index=False)\n",
    "planes.to_sql(\"planes\", conn, if_exists=\"replace\", index=False)\n",
    "ontime.to_sql(\"ontime\", conn, if_exists=\"replace\", index=False)"
   ]
  },
  {
   "cell_type": "code",
   "execution_count": 7,
   "id": "33b0f66e",
   "metadata": {},
   "outputs": [
    {
     "name": "stdout",
     "output_type": "stream",
     "text": [
      "      model  avg_delay\n",
      "14  737-230  12.956403\n"
     ]
    }
   ],
   "source": [
    "# Quiz Q1: Airplane with the lowest average departure delay (excluding cancelled and diverted flights)\n",
    "\n",
    "lowest_dep_delay = (\n",
    "    planes.merge(ontime, left_on=\"tailnum\", right_on=\"TailNum\")\n",
    "    .query(\"Cancelled == 0 & Diverted == 0 & DepDelay > 0\")\n",
    "    .groupby(\"model\")[\"DepDelay\"]\n",
    "    .mean()\n",
    "    .reset_index(name=\"avg_delay\")\n",
    "    .sort_values(\"avg_delay\")\n",
    ")\n",
    "print(lowest_dep_delay.head(1))"
   ]
  },
  {
   "cell_type": "code",
   "execution_count": 8,
   "id": "e5df7582",
   "metadata": {},
   "outputs": [
    {
     "name": "stdout",
     "output_type": "stream",
     "text": [
      "       city    count\n",
      "54  Chicago  1505661\n"
     ]
    }
   ],
   "source": [
    "# Quiz Q2: City with the highest number of inbound flights (excluding cancelled flights)\n",
    "\n",
    "inbound_city = (\n",
    "    airports.merge(ontime, left_on=\"iata\", right_on=\"Dest\")\n",
    "    .query(\"Cancelled == 0\")\n",
    "    .groupby(\"city\")\n",
    "    .size()\n",
    "    .reset_index(name=\"count\")\n",
    "    .sort_values(\"count\", ascending=False)\n",
    ")\n",
    "print(inbound_city.head(1))"
   ]
  },
  {
   "cell_type": "code",
   "execution_count": 9,
   "id": "14924a49",
   "metadata": {},
   "outputs": [
    {
     "name": "stdout",
     "output_type": "stream",
     "text": [
      "                    Description  total\n",
      "6  American Eagle Airlines Inc.  69529\n"
     ]
    }
   ],
   "source": [
    "# Quiz Q3: Company with the highest number of cancelled flights\n",
    "\n",
    "cancelled_flights = (\n",
    "    carriers.merge(ontime, left_on=\"Code\", right_on=\"UniqueCarrier\")\n",
    "    .query(\"Cancelled == 1\")\n",
    "    .groupby(\"Description\")\n",
    "    .size()\n",
    "    .reset_index(name=\"total\")\n",
    "    .sort_values(\"total\", ascending=False)\n",
    ")\n",
    "print(cancelled_flights.head(1))"
   ]
  },
  {
   "cell_type": "code",
   "execution_count": 10,
   "id": "0350c196",
   "metadata": {},
   "outputs": [
    {
     "name": "stdout",
     "output_type": "stream",
     "text": [
      "                    Description  numerator  denominator     ratio\n",
      "6  American Eagle Airlines Inc.      69529      1741530  0.039924\n"
     ]
    }
   ],
   "source": [
    "# Quiz Q4: Company with the highest ratio of cancelled flights to total flights\n",
    "\n",
    "numerator = (\n",
    "    ontime.query(\"Cancelled == 1\")\n",
    "    .merge(carriers, left_on=\"UniqueCarrier\", right_on=\"Code\")\n",
    "    .groupby(\"Description\")\n",
    "    .size()\n",
    "    .reset_index(name=\"numerator\")\n",
    ")\n",
    "\n",
    "denominator = (\n",
    "    ontime.merge(carriers, left_on=\"UniqueCarrier\", right_on=\"Code\")\n",
    "    .groupby(\"Description\")\n",
    "    .size()\n",
    "    .reset_index(name=\"denominator\")\n",
    ")\n",
    "\n",
    "ratio = numerator.merge(denominator, on=\"Description\")\n",
    "ratio[\"ratio\"] = ratio[\"numerator\"] / ratio[\"denominator\"]\n",
    "highest_ratio = ratio.sort_values(\"ratio\", ascending=False).head(1)\n",
    "print(highest_ratio)"
   ]
  },
  {
   "cell_type": "code",
   "execution_count": 11,
   "id": "f2eb8ccf",
   "metadata": {},
   "outputs": [],
   "source": [
    "conn.close()"
   ]
  },
  {
   "cell_type": "code",
   "execution_count": null,
   "id": "a9148397",
   "metadata": {},
   "outputs": [],
   "source": []
  }
 ],
 "metadata": {
  "kernelspec": {
   "display_name": "Python 3 (ipykernel)",
   "language": "python",
   "name": "python3"
  },
  "language_info": {
   "codemirror_mode": {
    "name": "ipython",
    "version": 3
   },
   "file_extension": ".py",
   "mimetype": "text/x-python",
   "name": "python",
   "nbconvert_exporter": "python",
   "pygments_lexer": "ipython3",
   "version": "3.11.5"
  }
 },
 "nbformat": 4,
 "nbformat_minor": 5
}
